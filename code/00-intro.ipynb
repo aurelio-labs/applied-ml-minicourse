{
 "cells": [
  {
   "cell_type": "markdown",
   "metadata": {},
   "source": [
    "# 00: Applied ML Minicourse\n",
    "\n",
    "The *Applied ML Minicourse* aims to quickly introduce and teach you some of the most popular tools for building production grade ML apps as quickly as possible.\n",
    "\n",
    "The course format will follow the development of a real-world app focusing on the recent advances in diffusion models for image generation.\n",
    "\n",
    "Our app will consist of an intuitive interface with components for image generation, prompt recommendation, and image viewing.\n",
    "\n",
    "It will allow users to generate images with stable diffusion, be fully hosted online (for free), and we'll even make our app super efficient using some fancy vector search capabilities."
   ]
  }
 ],
 "metadata": {
  "kernelspec": {
   "display_name": "Python 3.10.7 64-bit",
   "language": "python",
   "name": "python3"
  },
  "language_info": {
   "name": "python",
   "version": "3.10.7"
  },
  "orig_nbformat": 4,
  "vscode": {
   "interpreter": {
    "hash": "b0fa6594d8f4cbf19f97940f81e996739fb7646882a419484c72d19e05852a7e"
   }
  }
 },
 "nbformat": 4,
 "nbformat_minor": 2
}
