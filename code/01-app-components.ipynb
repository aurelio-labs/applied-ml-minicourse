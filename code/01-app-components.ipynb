{
 "cells": [
  {
   "cell_type": "markdown",
   "metadata": {},
   "source": [
    "# 01: App Components\n",
    "\n",
    "Our efficient stable diffusion app will consist of several components, all representing a common and key part of most ML apps. They are:\n",
    "\n",
    "## ML Model\n",
    "\n",
    "No ML app would be an ML app without some sort of ML model. As mentioned, we will be implementing image diffusion with *Stable Diffusion*.\n",
    "\n",
    "Stable Diffusion actually consists of multiple models and we'll need to dive into some of the details behind each to implement what we're building here.\n",
    "\n",
    "The ML pipeline will be implemented using the *Hugging Face Diffusers* library. *Diffusers* is one of the latest releases in the huge *Hugging Face* ML ecosystem. This ecosystem is perhaps one of the most important components of modern applied ML.\n",
    "\n",
    "## Web App Hosting\n",
    "\n",
    "Our web app will be hosted within the same ML ecosystem using *Hugging Face Spaces*. We will be able to host the app completely for free or upgrade our hardware for better performance.\n",
    "\n",
    "Once complete, hosting our app here means it will be discoverable by thousands - a great benefit as we will see with our app.\n",
    "\n",
    "## Gradio\n",
    "\n",
    "The web app needs to be built. We will learn how to do so in Gradio, a framework built for ML engineers developing ML apps.\n",
    "\n",
    "## Vector Search\n",
    "\n",
    "A core component of our app will be *vector search*. Vector search is a parallel technology sharing many commonalities with the world of ML but being a distinguished field in it's own right.\n",
    "\n",
    "It is what powers things like Google search or Amazon recommendations. We will use a leading vector *database* called Pinecone (also free) to hugely optimize our image generation process.\n",
    "\n",
    "## Cloud Storage\n",
    "\n",
    "The final component is cloud storage. We will use GCP's *Cloud Storage* to store generated images. To do this we will be diving into the Python client for Google Cloud services."
   ]
  }
 ],
 "metadata": {
  "kernelspec": {
   "display_name": "Python 3.10.7 64-bit",
   "language": "python",
   "name": "python3"
  },
  "language_info": {
   "name": "python",
   "version": "3.10.7"
  },
  "orig_nbformat": 4,
  "vscode": {
   "interpreter": {
    "hash": "b0fa6594d8f4cbf19f97940f81e996739fb7646882a419484c72d19e05852a7e"
   }
  }
 },
 "nbformat": 4,
 "nbformat_minor": 2
}
