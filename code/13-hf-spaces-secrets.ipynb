{
 "cells": [
  {
   "cell_type": "markdown",
   "metadata": {},
   "source": [
    "[![Open In Colab](https://colab.research.google.com/assets/colab-badge.svg)](https://colab.research.google.com/github/jamescalam/applied-ml-minicourse/blob/main/code/13-hf-spaces-secrets.ipynb)\n",
    "\n",
    "# 13: Hugging Face Spaces Secrets\n",
    "\n",
    "As our app files will be publically accessible we need a way to hide our API keys and auth tokens. For the Pinecone API key and Hugging Face auth token we can do this easily by adding them to the app secrets:\n",
    "\n",
    "TK screenshot\n",
    "\n",
    "Then we access these values using the `os` module like so:\n",
    "\n",
    "```python\n",
    "PINECONE_KEY = os.environ['PINECONE_KEY']\n",
    "HF_AUTH = os.environ['HF_AUTH']\n",
    "```\n",
    "\n",
    "Storing our *Cloud Storage* credentials is more difficult. For this we must encrypt the `cloud-storage.json` credentials file and store it in an accessible location. If encrypted correctly the information inside the encrypted file can only be understood when given a specific *decryption key* generated during the encryption process.\n",
    "\n",
    "To encrypt the file (and generate the encryption key) we first load `cloud-storage.json`:"
   ]
  },
  {
   "cell_type": "code",
   "execution_count": null,
   "metadata": {},
   "outputs": [],
   "source": [
    "import json\n",
    "\n",
    "with open('cloud-storage.json', 'r', encoding='utf-8') as fp:\n",
    "    creds = json.load(fp)"
   ]
  },
  {
   "cell_type": "markdown",
   "metadata": {},
   "source": [
    "Convert to string format with `json.dumps`:"
   ]
  },
  {
   "cell_type": "code",
   "execution_count": null,
   "metadata": {},
   "outputs": [],
   "source": [
    "keys_str = json.dumps(api, indent=4)"
   ]
  },
  {
   "cell_type": "markdown",
   "metadata": {},
   "source": [
    "Now we initialize an encryption key using the `cryptography` module:"
   ]
  },
  {
   "cell_type": "code",
   "execution_count": null,
   "metadata": {},
   "outputs": [],
   "source": [
    "from cryptography.fernet import Fernet\n",
    "\n",
    "key = Fernet.generate_key()"
   ]
  },
  {
   "cell_type": "markdown",
   "metadata": {},
   "source": [
    "Use the key to initialize encryption/decryption object:"
   ]
  },
  {
   "cell_type": "code",
   "execution_count": null,
   "metadata": {},
   "outputs": [],
   "source": [
    "fernet = Fernet(key)"
   ]
  },
  {
   "cell_type": "markdown",
   "metadata": {},
   "source": [
    "And encrypt the credentials string:"
   ]
  },
  {
   "cell_type": "code",
   "execution_count": null,
   "metadata": {},
   "outputs": [],
   "source": [
    "encrypted = fernet.encrypt(keys_str.encode())"
   ]
  },
  {
   "cell_type": "markdown",
   "metadata": {},
   "source": [
    "Now we save the encrypted credentials to file and add to the Hugging Face space."
   ]
  },
  {
   "cell_type": "code",
   "execution_count": null,
   "metadata": {},
   "outputs": [],
   "source": [
    "with open('cloud-storage.encrypted', 'wb') as fp:\n",
    "    fp.write(encrypted)"
   ]
  },
  {
   "cell_type": "markdown",
   "metadata": {},
   "source": [
    "To decrypt this file we *need* the same encryption key we have stored in the `key` variable. We copy it across to our Hugging Face spaces secrets.\n",
    "\n",
    "TK screenshot of adding to app secrets\n",
    "\n",
    "Back in our app code we can decrypt the encrypted credentials file and store them in a private location to be read by the Cloud Storage authenticator."
   ]
  },
  {
   "cell_type": "code",
   "execution_count": null,
   "metadata": {},
   "outputs": [],
   "source": [
    "with open('cloud-storage.encrypted', 'rb') as fp:\n",
    "    encrypted = fp.read()\n",
    "    creds = json.loads(fernet.decrypt(encrypted).decode())"
   ]
  },
  {
   "cell_type": "markdown",
   "metadata": {},
   "source": [
    "Now `creds` contains our exact `cloud-storage.json` credentials, decrypted from the `cloud-storage.encrypted` file.\n",
    "\n",
    "With all of these steps complete, we are ready to deploy our app to Hugging Face Spaces."
   ]
  }
 ],
 "metadata": {
  "kernelspec": {
   "display_name": "Python 3.10.7 64-bit",
   "language": "python",
   "name": "python3"
  },
  "language_info": {
   "name": "python",
   "version": "3.10.7"
  },
  "orig_nbformat": 4,
  "vscode": {
   "interpreter": {
    "hash": "b0fa6594d8f4cbf19f97940f81e996739fb7646882a419484c72d19e05852a7e"
   }
  }
 },
 "nbformat": 4,
 "nbformat_minor": 2
}
