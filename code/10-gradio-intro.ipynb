{
 "cells": [
  {
   "cell_type": "markdown",
   "metadata": {},
   "source": [
    "# 10: Introduction to Gradio\n",
    "\n",
    "Gradio is a Python framework designed to make building ML apps incredibly straightforward. It's also owned by Hugging Face and integrates well with the hosting service from Hugging Face that we'll be using later.\n",
    "\n",
    "There are two ways of using Gradio:\n",
    "\n",
    "* **Interface**: High-level abstraction for simple demos.\n",
    "* **Blocks**: Lower-level that enables more flexible layouts and data processing steps. We build the app in *'blocks'* and can perform multi-step processes.\n",
    "\n",
    "Blocks is far more flexible and for what we want to build, we'll need this flexibility.\n",
    "\n",
    "A Gradio blocks app will always look something like this:\n",
    "\n",
    "```python\n",
    "import gradio as gr\n",
    "\n",
    "# all blocks are placed within context manager (CM)\n",
    "with gr.Blocks() as demo:\n",
    "    # add some Gradio components here like:\n",
    "    text = gr.Textbox(label='A Textbox')\n",
    "    button = gr.Button('Click me')\n",
    "\n",
    "# we launch everything hosted within the above CM\n",
    "demo.launch()\n",
    "```\n",
    "\n",
    "With a few of these Gradio components we can build some really useful apps and as you can see, Gradio makes it incredibly straightforward.\n",
    "\n",
    "In the next chapter we'll begin putting our Gradio ML app together."
   ]
  }
 ],
 "metadata": {
  "kernelspec": {
   "display_name": "Python 3.10.7 64-bit",
   "language": "python",
   "name": "python3"
  },
  "language_info": {
   "name": "python",
   "version": "3.10.7"
  },
  "orig_nbformat": 4,
  "vscode": {
   "interpreter": {
    "hash": "b0fa6594d8f4cbf19f97940f81e996739fb7646882a419484c72d19e05852a7e"
   }
  }
 },
 "nbformat": 4,
 "nbformat_minor": 2
}
