{
 "cells": [
  {
   "cell_type": "markdown",
   "metadata": {},
   "source": [
    "# Applied ML Minicourse\n",
    "\n",
    "The *Applied ML Minicourse* aims to quickly introduce and teach you some of the most popular tools for building production grade ML apps as quickly as possible.\n",
    "\n",
    "The course format will follow the development of a real-world app focusing on the recent advances in diffusion models for image generation.\n",
    "\n",
    "Our app will consist of an intuitive interface with components for image generation, prompt recommendation, and image viewing.\n",
    "\n",
    "It will allow users to generate images with stable diffusion, be fully hosted online (for free), and we'll even make our app super efficient using some fancy vector search capabilities."
   ]
  }
 ],
 "metadata": {
  "language_info": {
   "name": "python"
  },
  "orig_nbformat": 4
 },
 "nbformat": 4,
 "nbformat_minor": 2
}
